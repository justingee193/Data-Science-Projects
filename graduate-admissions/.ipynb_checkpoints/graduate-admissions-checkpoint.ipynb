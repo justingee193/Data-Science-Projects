{
 "cells": [
  {
   "cell_type": "markdown",
   "metadata": {},
   "source": [
    "# Predicting Graduate Admissions Probability\n",
    "\n",
    "In this project, we will evaluate the performance and predictive power of a model that has been trained and tested on data collected from Master's program graduate admissions.\n",
    "\n",
    "Citation:\n",
    "\n",
    "* Mohan S Acharya, Asfia Armaan, Aneeta S Antony : A Comparison of Regression Models for Prediction of Graduate Admissions, IEEE International Conference on Computational Intelligence in Data Science 2019"
   ]
  },
  {
   "cell_type": "code",
   "execution_count": 20,
   "metadata": {},
   "outputs": [],
   "source": [
    "import pandas as pd\n",
    "import numpy as np\n",
    "import seaborn as sns\n",
    "import matplotlib.pyplot as plt\n",
    "%matplotlib inline\n",
    "\n",
    "data1 = pd.read_csv('Admission_Predict.csv')\n",
    "data2 = pd.read_csv('Admission_Predict_Ver1.1.csv')\n",
    "\n",
    "data = pd.concat([data1, data2]).drop('Serial No.', axis = 1)\n",
    "target = data['Chance of Admit ']\n",
    "features = data.drop('Chance of Admit ', axis = 1)"
   ]
  },
  {
   "cell_type": "code",
   "execution_count": 23,
   "metadata": {},
   "outputs": [
    {
     "data": {
      "text/plain": [
       "Index(['GRE Score', 'TOEFL Score', 'University Rating', 'SOP', 'LOR ', 'CGPA',\n",
       "       'Research', 'Chance of Admit '],\n",
       "      dtype='object')"
      ]
     },
     "execution_count": 23,
     "metadata": {},
     "output_type": "execute_result"
    }
   ],
   "source": [
    "data.columns"
   ]
  },
  {
   "cell_type": "markdown",
   "metadata": {},
   "source": [
    "# Data Information\n",
    "\n",
    "Variable Descriptions:\n",
    "* GRE Scores (out of 340)\n",
    "* TOEFL Scores (out of 120)\n",
    "* University Rating (out of 5)\n",
    "* Statement of Purpose (out of 5)\n",
    "* Letter of Recommendation Strength (out of 5)\n",
    "* Cumulative GPA (ranging from 0 to 10)\n",
    "* Undergraduate GPA (out of 10)\n",
    "* Research Experience (0 or 1)\n",
    "* Chance of Admit (ranging from 0 to 1)"
   ]
  },
  {
   "cell_type": "markdown",
   "metadata": {},
   "source": [
    "# Data Exploration"
   ]
  },
  {
   "cell_type": "code",
   "execution_count": 24,
   "metadata": {},
   "outputs": [
    {
     "data": {
      "text/html": [
       "<div>\n",
       "<style scoped>\n",
       "    .dataframe tbody tr th:only-of-type {\n",
       "        vertical-align: middle;\n",
       "    }\n",
       "\n",
       "    .dataframe tbody tr th {\n",
       "        vertical-align: top;\n",
       "    }\n",
       "\n",
       "    .dataframe thead th {\n",
       "        text-align: right;\n",
       "    }\n",
       "</style>\n",
       "<table border=\"1\" class=\"dataframe\">\n",
       "  <thead>\n",
       "    <tr style=\"text-align: right;\">\n",
       "      <th></th>\n",
       "      <th>GRE Score</th>\n",
       "      <th>TOEFL Score</th>\n",
       "      <th>University Rating</th>\n",
       "      <th>SOP</th>\n",
       "      <th>LOR</th>\n",
       "      <th>CGPA</th>\n",
       "      <th>Research</th>\n",
       "      <th>Chance of Admit</th>\n",
       "    </tr>\n",
       "  </thead>\n",
       "  <tbody>\n",
       "    <tr>\n",
       "      <th>0</th>\n",
       "      <td>337</td>\n",
       "      <td>118</td>\n",
       "      <td>4</td>\n",
       "      <td>4.5</td>\n",
       "      <td>4.5</td>\n",
       "      <td>9.65</td>\n",
       "      <td>1</td>\n",
       "      <td>0.92</td>\n",
       "    </tr>\n",
       "    <tr>\n",
       "      <th>1</th>\n",
       "      <td>324</td>\n",
       "      <td>107</td>\n",
       "      <td>4</td>\n",
       "      <td>4.0</td>\n",
       "      <td>4.5</td>\n",
       "      <td>8.87</td>\n",
       "      <td>1</td>\n",
       "      <td>0.76</td>\n",
       "    </tr>\n",
       "    <tr>\n",
       "      <th>2</th>\n",
       "      <td>316</td>\n",
       "      <td>104</td>\n",
       "      <td>3</td>\n",
       "      <td>3.0</td>\n",
       "      <td>3.5</td>\n",
       "      <td>8.00</td>\n",
       "      <td>1</td>\n",
       "      <td>0.72</td>\n",
       "    </tr>\n",
       "    <tr>\n",
       "      <th>3</th>\n",
       "      <td>322</td>\n",
       "      <td>110</td>\n",
       "      <td>3</td>\n",
       "      <td>3.5</td>\n",
       "      <td>2.5</td>\n",
       "      <td>8.67</td>\n",
       "      <td>1</td>\n",
       "      <td>0.80</td>\n",
       "    </tr>\n",
       "    <tr>\n",
       "      <th>4</th>\n",
       "      <td>314</td>\n",
       "      <td>103</td>\n",
       "      <td>2</td>\n",
       "      <td>2.0</td>\n",
       "      <td>3.0</td>\n",
       "      <td>8.21</td>\n",
       "      <td>0</td>\n",
       "      <td>0.65</td>\n",
       "    </tr>\n",
       "  </tbody>\n",
       "</table>\n",
       "</div>"
      ],
      "text/plain": [
       "   GRE Score  TOEFL Score  University Rating  SOP  LOR   CGPA  Research  \\\n",
       "0        337          118                  4  4.5   4.5  9.65         1   \n",
       "1        324          107                  4  4.0   4.5  8.87         1   \n",
       "2        316          104                  3  3.0   3.5  8.00         1   \n",
       "3        322          110                  3  3.5   2.5  8.67         1   \n",
       "4        314          103                  2  2.0   3.0  8.21         0   \n",
       "\n",
       "   Chance of Admit   \n",
       "0              0.92  \n",
       "1              0.76  \n",
       "2              0.72  \n",
       "3              0.80  \n",
       "4              0.65  "
      ]
     },
     "execution_count": 24,
     "metadata": {},
     "output_type": "execute_result"
    }
   ],
   "source": [
    "data.head()"
   ]
  },
  {
   "cell_type": "code",
   "execution_count": 25,
   "metadata": {},
   "outputs": [
    {
     "name": "stdout",
     "output_type": "stream",
     "text": [
      "<class 'pandas.core.frame.DataFrame'>\n",
      "Int64Index: 900 entries, 0 to 499\n",
      "Data columns (total 8 columns):\n",
      "GRE Score            900 non-null int64\n",
      "TOEFL Score          900 non-null int64\n",
      "University Rating    900 non-null int64\n",
      "SOP                  900 non-null float64\n",
      "LOR                  900 non-null float64\n",
      "CGPA                 900 non-null float64\n",
      "Research             900 non-null int64\n",
      "Chance of Admit      900 non-null float64\n",
      "dtypes: float64(4), int64(4)\n",
      "memory usage: 63.3 KB\n"
     ]
    }
   ],
   "source": [
    "data.info()"
   ]
  },
  {
   "cell_type": "code",
   "execution_count": 26,
   "metadata": {},
   "outputs": [
    {
     "data": {
      "text/html": [
       "<div>\n",
       "<style scoped>\n",
       "    .dataframe tbody tr th:only-of-type {\n",
       "        vertical-align: middle;\n",
       "    }\n",
       "\n",
       "    .dataframe tbody tr th {\n",
       "        vertical-align: top;\n",
       "    }\n",
       "\n",
       "    .dataframe thead th {\n",
       "        text-align: right;\n",
       "    }\n",
       "</style>\n",
       "<table border=\"1\" class=\"dataframe\">\n",
       "  <thead>\n",
       "    <tr style=\"text-align: right;\">\n",
       "      <th></th>\n",
       "      <th>GRE Score</th>\n",
       "      <th>TOEFL Score</th>\n",
       "      <th>University Rating</th>\n",
       "      <th>SOP</th>\n",
       "      <th>LOR</th>\n",
       "      <th>CGPA</th>\n",
       "      <th>Research</th>\n",
       "      <th>Chance of Admit</th>\n",
       "    </tr>\n",
       "  </thead>\n",
       "  <tbody>\n",
       "    <tr>\n",
       "      <th>count</th>\n",
       "      <td>900.000000</td>\n",
       "      <td>900.000000</td>\n",
       "      <td>900.000000</td>\n",
       "      <td>900.000000</td>\n",
       "      <td>900.00000</td>\n",
       "      <td>900.000000</td>\n",
       "      <td>900.000000</td>\n",
       "      <td>900.000000</td>\n",
       "    </tr>\n",
       "    <tr>\n",
       "      <th>mean</th>\n",
       "      <td>316.621111</td>\n",
       "      <td>107.288889</td>\n",
       "      <td>3.102222</td>\n",
       "      <td>3.385556</td>\n",
       "      <td>3.47000</td>\n",
       "      <td>8.586433</td>\n",
       "      <td>0.554444</td>\n",
       "      <td>0.722900</td>\n",
       "    </tr>\n",
       "    <tr>\n",
       "      <th>std</th>\n",
       "      <td>11.369700</td>\n",
       "      <td>6.073968</td>\n",
       "      <td>1.143048</td>\n",
       "      <td>0.997612</td>\n",
       "      <td>0.91319</td>\n",
       "      <td>0.600822</td>\n",
       "      <td>0.497303</td>\n",
       "      <td>0.141722</td>\n",
       "    </tr>\n",
       "    <tr>\n",
       "      <th>min</th>\n",
       "      <td>290.000000</td>\n",
       "      <td>92.000000</td>\n",
       "      <td>1.000000</td>\n",
       "      <td>1.000000</td>\n",
       "      <td>1.00000</td>\n",
       "      <td>6.800000</td>\n",
       "      <td>0.000000</td>\n",
       "      <td>0.340000</td>\n",
       "    </tr>\n",
       "    <tr>\n",
       "      <th>25%</th>\n",
       "      <td>308.000000</td>\n",
       "      <td>103.000000</td>\n",
       "      <td>2.000000</td>\n",
       "      <td>2.500000</td>\n",
       "      <td>3.00000</td>\n",
       "      <td>8.140000</td>\n",
       "      <td>0.000000</td>\n",
       "      <td>0.640000</td>\n",
       "    </tr>\n",
       "    <tr>\n",
       "      <th>50%</th>\n",
       "      <td>317.000000</td>\n",
       "      <td>107.000000</td>\n",
       "      <td>3.000000</td>\n",
       "      <td>3.500000</td>\n",
       "      <td>3.50000</td>\n",
       "      <td>8.570000</td>\n",
       "      <td>1.000000</td>\n",
       "      <td>0.730000</td>\n",
       "    </tr>\n",
       "    <tr>\n",
       "      <th>75%</th>\n",
       "      <td>325.000000</td>\n",
       "      <td>112.000000</td>\n",
       "      <td>4.000000</td>\n",
       "      <td>4.000000</td>\n",
       "      <td>4.00000</td>\n",
       "      <td>9.052500</td>\n",
       "      <td>1.000000</td>\n",
       "      <td>0.822500</td>\n",
       "    </tr>\n",
       "    <tr>\n",
       "      <th>max</th>\n",
       "      <td>340.000000</td>\n",
       "      <td>120.000000</td>\n",
       "      <td>5.000000</td>\n",
       "      <td>5.000000</td>\n",
       "      <td>5.00000</td>\n",
       "      <td>9.920000</td>\n",
       "      <td>1.000000</td>\n",
       "      <td>0.970000</td>\n",
       "    </tr>\n",
       "  </tbody>\n",
       "</table>\n",
       "</div>"
      ],
      "text/plain": [
       "        GRE Score  TOEFL Score  University Rating         SOP       LOR   \\\n",
       "count  900.000000   900.000000         900.000000  900.000000  900.00000   \n",
       "mean   316.621111   107.288889           3.102222    3.385556    3.47000   \n",
       "std     11.369700     6.073968           1.143048    0.997612    0.91319   \n",
       "min    290.000000    92.000000           1.000000    1.000000    1.00000   \n",
       "25%    308.000000   103.000000           2.000000    2.500000    3.00000   \n",
       "50%    317.000000   107.000000           3.000000    3.500000    3.50000   \n",
       "75%    325.000000   112.000000           4.000000    4.000000    4.00000   \n",
       "max    340.000000   120.000000           5.000000    5.000000    5.00000   \n",
       "\n",
       "             CGPA    Research  Chance of Admit   \n",
       "count  900.000000  900.000000        900.000000  \n",
       "mean     8.586433    0.554444          0.722900  \n",
       "std      0.600822    0.497303          0.141722  \n",
       "min      6.800000    0.000000          0.340000  \n",
       "25%      8.140000    0.000000          0.640000  \n",
       "50%      8.570000    1.000000          0.730000  \n",
       "75%      9.052500    1.000000          0.822500  \n",
       "max      9.920000    1.000000          0.970000  "
      ]
     },
     "execution_count": 26,
     "metadata": {},
     "output_type": "execute_result"
    }
   ],
   "source": [
    "data.describe()"
   ]
  },
  {
   "cell_type": "markdown",
   "metadata": {},
   "source": [
    "Check for any missing values."
   ]
  },
  {
   "cell_type": "code",
   "execution_count": 27,
   "metadata": {},
   "outputs": [
    {
     "data": {
      "text/plain": [
       "False"
      ]
     },
     "execution_count": 27,
     "metadata": {},
     "output_type": "execute_result"
    }
   ],
   "source": [
    "data.isnull().values.any()"
   ]
  },
  {
   "cell_type": "markdown",
   "metadata": {},
   "source": [
    "Correlation coefficient measures the relationship between a pair of variables where, \n",
    "\n",
    "$$\n",
    "r = \\frac{n\\sum{xy} - \\sum{x}\\sum{y}}{\\sqrt{[n\\sum{x^2} - (\\sum{x})^2][n\\sum{y^2} - (\\sum{y})^2]}}\n",
    "$$\n",
    "\n",
    "The strength of the relationship is measured between [-1 , 1] with intervals $(0 , \\pm 0.3)$, $(\\pm 0.3, \\pm 0.7)$ and $(\\pm 0.7 , \\pm 1)$ indicating weak, moderate, and strong correlation, respectively.\n",
    "* Positive correlation when r > 0\n",
    "* Negative correlation when r < 0\n",
    "* No correlation when r = 0"
   ]
  },
  {
   "cell_type": "code",
   "execution_count": 40,
   "metadata": {},
   "outputs": [
    {
     "data": {
      "text/html": [
       "<div>\n",
       "<style scoped>\n",
       "    .dataframe tbody tr th:only-of-type {\n",
       "        vertical-align: middle;\n",
       "    }\n",
       "\n",
       "    .dataframe tbody tr th {\n",
       "        vertical-align: top;\n",
       "    }\n",
       "\n",
       "    .dataframe thead th {\n",
       "        text-align: right;\n",
       "    }\n",
       "</style>\n",
       "<table border=\"1\" class=\"dataframe\">\n",
       "  <thead>\n",
       "    <tr style=\"text-align: right;\">\n",
       "      <th></th>\n",
       "      <th>GRE Score</th>\n",
       "      <th>TOEFL Score</th>\n",
       "      <th>University Rating</th>\n",
       "      <th>SOP</th>\n",
       "      <th>LOR</th>\n",
       "      <th>CGPA</th>\n",
       "      <th>Research</th>\n",
       "      <th>Chance of Admit</th>\n",
       "    </tr>\n",
       "  </thead>\n",
       "  <tbody>\n",
       "    <tr>\n",
       "      <th>GRE Score</th>\n",
       "      <td>1.000000</td>\n",
       "      <td>0.831137</td>\n",
       "      <td>0.650135</td>\n",
       "      <td>0.613269</td>\n",
       "      <td>0.538649</td>\n",
       "      <td>0.829021</td>\n",
       "      <td>0.570726</td>\n",
       "      <td>0.806873</td>\n",
       "    </tr>\n",
       "    <tr>\n",
       "      <th>TOEFL Score</th>\n",
       "      <td>0.831137</td>\n",
       "      <td>1.000000</td>\n",
       "      <td>0.669767</td>\n",
       "      <td>0.650534</td>\n",
       "      <td>0.552455</td>\n",
       "      <td>0.818476</td>\n",
       "      <td>0.476830</td>\n",
       "      <td>0.791934</td>\n",
       "    </tr>\n",
       "    <tr>\n",
       "      <th>University Rating</th>\n",
       "      <td>0.650135</td>\n",
       "      <td>0.669767</td>\n",
       "      <td>1.000000</td>\n",
       "      <td>0.730656</td>\n",
       "      <td>0.631142</td>\n",
       "      <td>0.723023</td>\n",
       "      <td>0.436357</td>\n",
       "      <td>0.699380</td>\n",
       "    </tr>\n",
       "    <tr>\n",
       "      <th>SOP</th>\n",
       "      <td>0.613269</td>\n",
       "      <td>0.650534</td>\n",
       "      <td>0.730656</td>\n",
       "      <td>1.000000</td>\n",
       "      <td>0.692200</td>\n",
       "      <td>0.714796</td>\n",
       "      <td>0.424001</td>\n",
       "      <td>0.680378</td>\n",
       "    </tr>\n",
       "    <tr>\n",
       "      <th>LOR</th>\n",
       "      <td>0.538649</td>\n",
       "      <td>0.552455</td>\n",
       "      <td>0.631142</td>\n",
       "      <td>0.692200</td>\n",
       "      <td>1.000000</td>\n",
       "      <td>0.651118</td>\n",
       "      <td>0.383256</td>\n",
       "      <td>0.655735</td>\n",
       "    </tr>\n",
       "    <tr>\n",
       "      <th>CGPA</th>\n",
       "      <td>0.829021</td>\n",
       "      <td>0.818476</td>\n",
       "      <td>0.723023</td>\n",
       "      <td>0.714796</td>\n",
       "      <td>0.651118</td>\n",
       "      <td>1.000000</td>\n",
       "      <td>0.509915</td>\n",
       "      <td>0.878284</td>\n",
       "    </tr>\n",
       "    <tr>\n",
       "      <th>Research</th>\n",
       "      <td>0.570726</td>\n",
       "      <td>0.476830</td>\n",
       "      <td>0.436357</td>\n",
       "      <td>0.424001</td>\n",
       "      <td>0.383256</td>\n",
       "      <td>0.509915</td>\n",
       "      <td>1.000000</td>\n",
       "      <td>0.548968</td>\n",
       "    </tr>\n",
       "    <tr>\n",
       "      <th>Chance of Admit</th>\n",
       "      <td>0.806873</td>\n",
       "      <td>0.791934</td>\n",
       "      <td>0.699380</td>\n",
       "      <td>0.680378</td>\n",
       "      <td>0.655735</td>\n",
       "      <td>0.878284</td>\n",
       "      <td>0.548968</td>\n",
       "      <td>1.000000</td>\n",
       "    </tr>\n",
       "  </tbody>\n",
       "</table>\n",
       "</div>"
      ],
      "text/plain": [
       "                   GRE Score  TOEFL Score  University Rating       SOP  \\\n",
       "GRE Score           1.000000     0.831137           0.650135  0.613269   \n",
       "TOEFL Score         0.831137     1.000000           0.669767  0.650534   \n",
       "University Rating   0.650135     0.669767           1.000000  0.730656   \n",
       "SOP                 0.613269     0.650534           0.730656  1.000000   \n",
       "LOR                 0.538649     0.552455           0.631142  0.692200   \n",
       "CGPA                0.829021     0.818476           0.723023  0.714796   \n",
       "Research            0.570726     0.476830           0.436357  0.424001   \n",
       "Chance of Admit     0.806873     0.791934           0.699380  0.680378   \n",
       "\n",
       "                       LOR       CGPA  Research  Chance of Admit   \n",
       "GRE Score          0.538649  0.829021  0.570726          0.806873  \n",
       "TOEFL Score        0.552455  0.818476  0.476830          0.791934  \n",
       "University Rating  0.631142  0.723023  0.436357          0.699380  \n",
       "SOP                0.692200  0.714796  0.424001          0.680378  \n",
       "LOR                1.000000  0.651118  0.383256          0.655735  \n",
       "CGPA               0.651118  1.000000  0.509915          0.878284  \n",
       "Research           0.383256  0.509915  1.000000          0.548968  \n",
       "Chance of Admit    0.655735  0.878284  0.548968          1.000000  "
      ]
     },
     "execution_count": 40,
     "metadata": {},
     "output_type": "execute_result"
    }
   ],
   "source": [
    "corr = data.corr()\n",
    "corr"
   ]
  },
  {
   "cell_type": "code",
   "execution_count": 41,
   "metadata": {},
   "outputs": [
    {
     "data": {
      "text/plain": [
       "<matplotlib.axes._subplots.AxesSubplot at 0x1f0a1ed8048>"
      ]
     },
     "execution_count": 41,
     "metadata": {},
     "output_type": "execute_result"
    },
    {
     "data": {
      "image/png": "[encoded data removed]",
      "text/plain": [
       "<Figure size 432x288 with 2 Axes>"
      ]
     },
     "metadata": {
      "needs_background": "light"
     },
     "output_type": "display_data"
    }
   ],
   "source": [
    "sns.heatmap(corr)"
   ]
  },
  {
   "cell_type": "markdown",
   "metadata": {},
   "source": [
    "All independent variables indicate either moderate or strong positive correlation with the dependent variable (Chance of Admit). GRE Score and CGPA (Cumulative GPA) have the strongest correlation at .807 and 0.878 with Chance of Admissions."
   ]
  },
  {
   "cell_type": "code",
   "execution_count": null,
   "metadata": {},
   "outputs": [],
   "source": []
  }
 ],
 "metadata": {
  "kernelspec": {
   "display_name": "Python 3",
   "language": "python",
   "name": "python3"
  },
  "language_info": {
   "codemirror_mode": {
    "name": "ipython",
    "version": 3
   },
   "file_extension": ".py",
   "mimetype": "text/x-python",
   "name": "python",
   "nbconvert_exporter": "python",
   "pygments_lexer": "ipython3",
   "version": "3.7.3"
  }
 },
 "nbformat": 4,
 "nbformat_minor": 2
}
